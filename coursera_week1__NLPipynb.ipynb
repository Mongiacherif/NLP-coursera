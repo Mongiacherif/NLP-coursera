{
  "nbformat": 4,
  "nbformat_minor": 0,
  "metadata": {
    "colab": {
      "name": "coursera_week1 _NLPipynb",
      "provenance": [],
      "authorship_tag": "ABX9TyNn12q9D/hgBA5rRRh4Ey23",
      "include_colab_link": true
    },
    "kernelspec": {
      "name": "python3",
      "display_name": "Python 3"
    }
  },
  "cells": [
    {
      "cell_type": "markdown",
      "metadata": {
        "id": "view-in-github",
        "colab_type": "text"
      },
      "source": [
        "<a href=\"https://colab.research.google.com/github/samarcherif/NLP-coursera/blob/master/coursera_week1__NLPipynb.ipynb\" target=\"_parent\"><img src=\"https://colab.research.google.com/assets/colab-badge.svg\" alt=\"Open In Colab\"/></a>"
      ]
    },
    {
      "cell_type": "code",
      "metadata": {
        "id": "b83kpT3u-jUj",
        "colab_type": "code",
        "colab": {}
      },
      "source": [
        "import tensorflow as tf\n",
        "from tensorflow import keras\n",
        "from tensorflow.keras.preprocessing.text import Tokenizer\n",
        "from tensorflow.keras.preprocessing.sequence import pad_sequences\n"
      ],
      "execution_count": null,
      "outputs": []
    },
    {
      "cell_type": "code",
      "metadata": {
        "id": "PPJCwRP_-l1u",
        "colab_type": "code",
        "colab": {
          "base_uri": "https://localhost:8080/",
          "height": 283
        },
        "outputId": "0f7bb436-e1e9-44ae-8eca-9d5117bbef05"
      },
      "source": [
        "sentences = [\n",
        "    'i love my dog',\n",
        "    'I, love my cat',\n",
        "    'You love my dog!'\n",
        "]\n",
        "\n",
        "tokenizer = Tokenizer(num_words = 100 ,oov_token=\"<OOV>\") # it will take the 100 most common words and we use  oov_token=\"<OOV>\" for unseen word for our data test \n",
        "tokenizer.fit_on_texts(sentences) #it will creat a dictionnary with the key being the word and the value being the token \n",
        "word_index = tokenizer.word_index#\n",
        "sequences = tokenizer.texts_to_sequences(sentences)# Here we get the text to sequence \n",
        "\n",
        "#Then once the tokenizer has created the sequences, these sequences can be passed to pad sequence  \n",
        "sequences = tokenizer.texts_to_sequences(sentences)\n",
        "\n",
        "padded = pad_sequences(sequences, maxlen=6) # maxlen represent the length of matrix \n",
        "print(\"\\nWord Index = \" , word_index)\n",
        "print(\"\\nSequences = \" , sequences)\n",
        "\n",
        "print(\"\\nPadded Sequences:\") #List of sequence has been padded out into matrix  \n",
        "print(padded)\n",
        "\n",
        "# Try with words that the tokenizer wasn't fit to\n",
        "test_data = [\n",
        "    'i really love my dog',\n",
        "    'my dog loves my manatee'\n",
        "]\n",
        "\n",
        "test_seq = tokenizer.texts_to_sequences(test_data)\n",
        "print(\"\\nTest Sequence = \", test_seq)\n",
        "padded = pad_sequences(test_seq, maxlen=10)\n",
        "print(\"\\nPadded Test Sequence: \")\n",
        "print(padded)"
      ],
      "execution_count": null,
      "outputs": [
        {
          "output_type": "stream",
          "text": [
            "\n",
            "Word Index =  {'<OOV>': 1, 'love': 2, 'my': 3, 'i': 4, 'dog': 5, 'cat': 6, 'you': 7}\n",
            "\n",
            "Sequences =  [[4, 2, 3, 5], [4, 2, 3, 6], [7, 2, 3, 5]]\n",
            "\n",
            "Padded Sequences:\n",
            "[[0 0 4 2 3 5]\n",
            " [0 0 4 2 3 6]\n",
            " [0 0 7 2 3 5]]\n",
            "\n",
            "Test Sequence =  [[4, 1, 2, 3, 5], [3, 5, 1, 3, 1]]\n",
            "\n",
            "Padded Test Sequence: \n",
            "[[0 0 0 0 0 4 1 2 3 5]\n",
            " [0 0 0 0 0 3 5 1 3 1]]\n"
          ],
          "name": "stdout"
        }
      ]
    }
  ]
}